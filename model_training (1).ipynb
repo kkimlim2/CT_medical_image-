{
 "cells": [
  {
   "cell_type": "code",
   "execution_count": 10,
   "id": "a291d40d-e538-44cd-837c-5bab511f459f",
   "metadata": {},
   "outputs": [],
   "source": [
    "import pandas as pd\n",
    "import numpy as np\n",
    "import random\n",
    "\n",
    "import matplotlib.pyplot as plt\n",
    "\n",
    "import torch, torchvision\n",
    "import torchvision.models as models\n",
    "import torch.nn as nn\n",
    "from torch.utils.data import DataLoader\n",
    "\n",
    "from customized_dataloader import CustomDataset,customsampler"
   ]
  },
  {
   "cell_type": "code",
   "execution_count": 2,
   "id": "77cea4f5-3f5d-49d7-9178-31194654d48e",
   "metadata": {},
   "outputs": [],
   "source": [
    "df = pd.read_csv(\"final_df.csv\")\n",
    "\n",
    "df.loc[df['Contrast']==True,['Contrast']] = 1\n",
    "df.loc[df['Contrast']==False,['Contrast']] = 0\n",
    "\n",
    "df['Contrast'] = df['Contrast'].astype('int')\n",
    "\n",
    "train_images = df['dicom_name'].values\n",
    "train_labels = df['Contrast'].values"
   ]
  },
  {
   "cell_type": "code",
   "execution_count": 3,
   "id": "72e8e0ae-d63e-4252-b63f-c7724b2ebe85",
   "metadata": {},
   "outputs": [],
   "source": [
    "dataset = CustomDataset(train_images, train_labels)\n",
    "sampler = customsampler(train_labels, 1,1)\n",
    "dataloader = DataLoader(dataset, batch_size=2,sampler=sampler)\n",
    "\n",
    "total_batch = len(dataloader)"
   ]
  },
  {
   "cell_type": "code",
   "execution_count": 4,
   "id": "626fc834-3b9c-499e-b204-c08724bc70c3",
   "metadata": {},
   "outputs": [],
   "source": [
    "device = 'cuda' if torch.cuda.is_available() else 'cpu'"
   ]
  },
  {
   "cell_type": "code",
   "execution_count": 5,
   "id": "dcfc049b-7a3e-49d2-b3b3-d4c6fd2c5126",
   "metadata": {},
   "outputs": [],
   "source": [
    "vgg16 = models.vgg16(pretrained=True)"
   ]
  },
  {
   "cell_type": "code",
   "execution_count": 6,
   "id": "2cc5a442-f223-41e2-a915-ee7122feb48b",
   "metadata": {
    "tags": []
   },
   "outputs": [
    {
     "data": {
      "text/plain": [
       "Sequential(\n",
       "  (0): VGG(\n",
       "    (features): Sequential(\n",
       "      (0): Conv2d(1, 64, kernel_size=(3, 3), stride=(1, 1))\n",
       "      (1): ReLU(inplace=True)\n",
       "      (2): Conv2d(64, 64, kernel_size=(3, 3), stride=(1, 1), padding=(1, 1))\n",
       "      (3): ReLU(inplace=True)\n",
       "      (4): MaxPool2d(kernel_size=2, stride=2, padding=0, dilation=1, ceil_mode=False)\n",
       "      (5): Conv2d(64, 128, kernel_size=(3, 3), stride=(1, 1), padding=(1, 1))\n",
       "      (6): ReLU(inplace=True)\n",
       "      (7): Conv2d(128, 128, kernel_size=(3, 3), stride=(1, 1), padding=(1, 1))\n",
       "      (8): ReLU(inplace=True)\n",
       "      (9): MaxPool2d(kernel_size=2, stride=2, padding=0, dilation=1, ceil_mode=False)\n",
       "      (10): Conv2d(128, 256, kernel_size=(3, 3), stride=(1, 1), padding=(1, 1))\n",
       "      (11): ReLU(inplace=True)\n",
       "      (12): Conv2d(256, 256, kernel_size=(3, 3), stride=(1, 1), padding=(1, 1))\n",
       "      (13): ReLU(inplace=True)\n",
       "      (14): Conv2d(256, 256, kernel_size=(3, 3), stride=(1, 1), padding=(1, 1))\n",
       "      (15): ReLU(inplace=True)\n",
       "      (16): MaxPool2d(kernel_size=2, stride=2, padding=0, dilation=1, ceil_mode=False)\n",
       "      (17): Conv2d(256, 512, kernel_size=(3, 3), stride=(1, 1), padding=(1, 1))\n",
       "      (18): ReLU(inplace=True)\n",
       "      (19): Conv2d(512, 512, kernel_size=(3, 3), stride=(1, 1), padding=(1, 1))\n",
       "      (20): ReLU(inplace=True)\n",
       "      (21): Conv2d(512, 512, kernel_size=(3, 3), stride=(1, 1), padding=(1, 1))\n",
       "      (22): ReLU(inplace=True)\n",
       "      (23): MaxPool2d(kernel_size=2, stride=2, padding=0, dilation=1, ceil_mode=False)\n",
       "      (24): Conv2d(512, 512, kernel_size=(3, 3), stride=(1, 1), padding=(1, 1))\n",
       "      (25): ReLU(inplace=True)\n",
       "      (26): Conv2d(512, 512, kernel_size=(3, 3), stride=(1, 1), padding=(1, 1))\n",
       "      (27): ReLU(inplace=True)\n",
       "      (28): Conv2d(512, 512, kernel_size=(3, 3), stride=(1, 1), padding=(1, 1))\n",
       "      (29): ReLU(inplace=True)\n",
       "      (30): MaxPool2d(kernel_size=2, stride=2, padding=0, dilation=1, ceil_mode=False)\n",
       "    )\n",
       "    (avgpool): AdaptiveAvgPool2d(output_size=(7, 7))\n",
       "    (classifier): Sequential(\n",
       "      (0): Linear(in_features=25088, out_features=4096, bias=True)\n",
       "      (1): ReLU(inplace=True)\n",
       "      (2): Dropout(p=0.5, inplace=False)\n",
       "      (3): Linear(in_features=4096, out_features=512, bias=True)\n",
       "      (4): ReLU(inplace=True)\n",
       "      (5): Dropout(p=0.5, inplace=False)\n",
       "      (6): Linear(in_features=512, out_features=1, bias=True)\n",
       "    )\n",
       "  )\n",
       "  (1): Sigmoid()\n",
       ")"
      ]
     },
     "execution_count": 6,
     "metadata": {},
     "output_type": "execute_result"
    }
   ],
   "source": [
    "vgg16.features[0] = nn.Conv2d(1,64, kernel_size=(3,3))\n",
    "\n",
    "vgg16.classifier[3] = nn.Linear(4096,512)\n",
    "vgg16.classifier[6] = nn.Linear(512,1)\n",
    "\n",
    "model = nn.Sequential(\n",
    "        vgg16,\n",
    "        nn.Sigmoid()\n",
    "        )\n",
    "\n",
    "model.to(device)"
   ]
  },
  {
   "cell_type": "code",
   "execution_count": 12,
   "id": "b92055ad-e692-49b8-b35f-601726e3fce4",
   "metadata": {},
   "outputs": [
    {
     "name": "stdout",
     "output_type": "stream",
     "text": [
      "[Epoch:1] cost = 50.0\n",
      "[Epoch:2] cost = 50.0\n",
      "[Epoch:3] cost = 50.0\n",
      "[Epoch:4] cost = 50.0\n",
      "[Epoch:5] cost = 50.0\n",
      "[Epoch:6] cost = 50.0\n",
      "[Epoch:7] cost = 50.0\n",
      "[Epoch:8] cost = 50.0\n",
      "[Epoch:9] cost = 50.0\n",
      "[Epoch:10] cost = 50.0\n",
      "Learning Finished!\n"
     ]
    }
   ],
   "source": [
    "model.train()\n",
    "criterion = nn.BCELoss().to(device)\n",
    "optimizer = torch.optim.SGD(model.parameters(), lr=0.001)\n",
    "\n",
    "loss_values = []\n",
    "\n",
    "epoch = 10\n",
    "\n",
    "for i in range(epoch):\n",
    "    avg_cost = 0.0\n",
    "    for e, data in enumerate(dataloader):\n",
    "\n",
    "        image, label = data\n",
    "        image = image.reshape(2,512,512,1) #채널수가 흑백=>마지막에 1\n",
    "        \n",
    "        image = image.permute(0,3,1,2) #batch, channel, width, height 순으로 텐서 변경\n",
    "        \n",
    "        image = image.to(device)\n",
    "        label = label.to(device)\n",
    "        \n",
    "        image.requires_grad = True\n",
    "    \n",
    "        optimizer.zero_grad()\n",
    "\n",
    "        outputs = model(image)\n",
    "\n",
    "        loss = criterion(outputs, label)\n",
    "        loss.backward()\n",
    "        optimizer.step()\n",
    "        \n",
    "        avg_cost += loss / total_batch\n",
    "        \n",
    "    print(f'[Epoch:{i + 1}] cost = {avg_cost}')\n",
    "    loss_values.append(avg_cost.item())\n",
    "    \n",
    "print('Learning Finished!')\n",
    "        \n",
    "    "
   ]
  },
  {
   "cell_type": "code",
   "execution_count": 13,
   "id": "5d22096f-8714-435b-8184-1a713fa46c41",
   "metadata": {},
   "outputs": [
    {
     "data": {
      "text/plain": [
       "[<matplotlib.lines.Line2D at 0x7fcbc9706ed0>]"
      ]
     },
     "execution_count": 13,
     "metadata": {},
     "output_type": "execute_result"
    },
    {
     "data": {
      "image/png": "[encoded data removed]",
      "text/plain": [
       "<Figure size 432x288 with 1 Axes>"
      ]
     },
     "metadata": {
      "needs_background": "light"
     },
     "output_type": "display_data"
    }
   ],
   "source": [
    "plt.plot(loss_values)"
   ]
  },
  {
   "cell_type": "code",
   "execution_count": 23,
   "id": "89980143-451b-4477-aabf-7b9b5b05c6b7",
   "metadata": {},
   "outputs": [],
   "source": [
    "torch.cuda.empty_cache()"
   ]
  },
  {
   "cell_type": "code",
   "execution_count": null,
   "id": "082e5eff-b09f-481d-93d2-b4115c9f2cf5",
   "metadata": {},
   "outputs": [],
   "source": []
  }
 ],
 "metadata": {
  "kernelspec": {
   "display_name": "Python 3",
   "language": "python",
   "name": "python3"
  },
  "language_info": {
   "codemirror_mode": {
    "name": "ipython",
    "version": 3
   },
   "file_extension": ".py",
   "mimetype": "text/x-python",
   "name": "python",
   "nbconvert_exporter": "python",
   "pygments_lexer": "ipython3",
   "version": "3.7.10"
  }
 },
 "nbformat": 4,
 "nbformat_minor": 5
}
